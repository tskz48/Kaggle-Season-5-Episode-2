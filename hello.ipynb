import numpy as np
import os
import optuna
from optuna.integration import TFKerasPruningCallback
from optuna.pruners import HyperbandPruner
import pandas as pd
import tensorflow as tf
from tensorflow import keras
from scikeras.wrappers import KerasRegressor
from tensorflow.keras.models import Sequential
from tensorflow.keras.layers import Dense, Dropout
from tensorflow.keras.callbacks import ReduceLROnPlateau, EarlyStopping

from sklearn.ensemble import IsolationForest
from sklearn.model_selection import train_test_split, StratifiedKFold, GridSearchCV, KFold
from sklearn.preprocessing import StandardScaler, OneHotEncoder, LabelEncoder
from sklearn.metrics import accuracy_score


df_train = pd.read_csv("/content/drive/MyDrive/train.csv")
df_test = pd.read_csv("/content/drive/MyDrive/test.csv")
X_train = df_train.drop(columns=['Price'])
y_train = df_train['Price']
print(X_train)
print(y_train)
X_test = df_test
print(df_train.dtypes)
print(df_train.isnull().sum())

if X_train['Compartments'].isnull().sum() > 0:
    X_train['Compartments'].fillna(X_train['Compartments'].median(), inplace=True)
if X_train['Weight Capacity (kg)'].isnull().sum() > 0:
    X_train['Weight Capacity (kg)'].fillna(X_train['Weight Capacity (kg)'].median(), inplace=True)

def impute_categorical_uniform(df, columns):
    df_copy = df.copy()
    for column in columns:
        num_missing = df[column].isna().sum()
        if num_missing > 0:
            category_probs = df_copy[column].value_counts(normalize=True)
            imputed_values = np.random.choice(category_probs.index, size=num_missing, p=category_probs.values)
            df_copy.loc[df_copy[column].isna(), column] = imputed_values
    return df_copy

X_train = impute_categorical_uniform(X_train, columns=['Brand', 'Material', 'Laptop Compartment', 'Waterproof', 'Style', 'Color', 'Size'])

def remove_outliers_iqr(df, columns):
    df_clean = df.copy()
    for col in columns:
        Q1 = df_clean[col].quantile(0.25)
        Q3 = df_clean[col].quantile(0.75)
        IQR = Q3 - Q1
        lower_bound = Q1 - 1.5 * IQR
        upper_bound = Q3 + 1.5 * IQR
        df_clean = df_clean[(df_clean[col] >= lower_bound) & (df_clean[col] <= upper_bound)]
    return df_clean

numerical_cols = ['Compartments', 'Weight Capacity (kg)']
X_train = remove_outliers_iqr(X_train, numerical_cols)
y_train = y_train.loc[X_train.index]

y_train = (y_train - y_train.mean()) / y_train.std()

scaler = StandardScaler()
X_train[numerical_cols] = scaler.fit_transform(X_train[numerical_cols])

X_train = pd.get_dummies(X_train, columns=['Brand', 'Material', 'Laptop Compartment', 'Waterproof', 'Style', 'Color'], drop_first=True)

encoder2 = LabelEncoder()
X_train['Size'] = encoder2.fit_transform(X_train['Size'])
print(X_train)

